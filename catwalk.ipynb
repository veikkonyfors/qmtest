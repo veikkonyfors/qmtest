{
 "cells": [
  {
   "cell_type": "code",
   "execution_count": null,
   "metadata": {},
   "outputs": [
    {
     "name": "stdout",
     "output_type": "stream",
     "text": [
      "olipa kerran\n",
      "Local current time : Wed Mar 10 11:26:35 2021\n",
      "0:00:00\n",
      "o\n",
      "0:00:00\n",
      "ol\n",
      "0:00:00\n",
      "oli\n",
      "0:00:01\n",
      "olip\n",
      "0:00:44\n",
      "olipa\n"
     ]
    }
   ],
   "source": [
    "#\n",
    "# catwalk, how long does it take to randomly form a sentense.\n",
    "# Like cat walking on the keyboard\n",
    "\n",
    "import random\n",
    "import time\n",
    "import datetime\n",
    "\n",
    "txt=\"olipa kerran\"\n",
    "print (txt)\n",
    "\n",
    "alpha=\"abcdefghijklmnopqrstuvxyzåäö \"\n",
    "\n",
    "random.seed()\n",
    "\n",
    "i=0; j=0; jmax=0; l=0\n",
    "\n",
    "localtime = time.asctime( time.localtime(time.time()) )\n",
    "print (\"Local current time :\", localtime)\n",
    "\n",
    "start = time.time()\n",
    "\n",
    "while True:\n",
    "    l=l+1\n",
    "    if(alpha[random.randint(0,len(alpha)-1)])==txt[i]: i=i+1;\n",
    "    else: j=max(i,j); i=0;\n",
    "    #print(j, i)\n",
    "    if (j<i): now=time.time(); print(str(datetime.timedelta(seconds=(round(now-start))))); print(txt[0:j+1]); \n",
    "        \n",
    "    if(i>=len(txt)): break\n",
    "    if(l>999999999): break;\n",
    "\n",
    "done = time.time()\n",
    "elapsed = done - start\n",
    "print(elapsed)\n",
    "\n",
    "print (str(datetime.timedelta(seconds=666)))\n",
    "#print(\"ohi on\")"
   ]
  }
 ],
 "metadata": {
  "kernelspec": {
   "display_name": "Python 3",
   "language": "python",
   "name": "python3"
  },
  "language_info": {
   "codemirror_mode": {
    "name": "ipython",
    "version": 3
   },
   "file_extension": ".py",
   "mimetype": "text/x-python",
   "name": "python",
   "nbconvert_exporter": "python",
   "pygments_lexer": "ipython3",
   "version": "3.8.5"
  }
 },
 "nbformat": 4,
 "nbformat_minor": 4
}
